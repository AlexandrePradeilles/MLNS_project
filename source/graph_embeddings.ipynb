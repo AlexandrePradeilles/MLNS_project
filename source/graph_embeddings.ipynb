{
 "cells": [
  {
   "cell_type": "code",
   "execution_count": 1,
   "metadata": {},
   "outputs": [
    {
     "name": "stdout",
     "output_type": "stream",
     "text": [
      "Requirement already satisfied: karateclub in c:\\users\\lenaa\\anaconda3\\envs\\mlns_project\\lib\\site-packages (1.3.3)\n",
      "Requirement already satisfied: numpy<1.23.0 in c:\\users\\lenaa\\anaconda3\\envs\\mlns_project\\lib\\site-packages (from karateclub) (1.22.4)\n",
      "Requirement already satisfied: networkx<2.7 in c:\\users\\lenaa\\anaconda3\\envs\\mlns_project\\lib\\site-packages (from karateclub) (2.6.3)\n",
      "Requirement already satisfied: decorator==4.4.2 in c:\\users\\lenaa\\anaconda3\\envs\\mlns_project\\lib\\site-packages (from karateclub) (4.4.2)\n",
      "Requirement already satisfied: tqdm in c:\\users\\lenaa\\anaconda3\\envs\\mlns_project\\lib\\site-packages (from karateclub) (4.65.0)\n",
      "Requirement already satisfied: python-louvain in c:\\users\\lenaa\\anaconda3\\envs\\mlns_project\\lib\\site-packages (from karateclub) (0.16)\n",
      "Requirement already satisfied: scikit-learn in c:\\users\\lenaa\\anaconda3\\envs\\mlns_project\\lib\\site-packages (from karateclub) (1.2.2)\n",
      "Requirement already satisfied: scipy in c:\\users\\lenaa\\anaconda3\\envs\\mlns_project\\lib\\site-packages (from karateclub) (1.10.1)\n",
      "Requirement already satisfied: pygsp in c:\\users\\lenaa\\anaconda3\\envs\\mlns_project\\lib\\site-packages (from karateclub) (0.5.1)\n",
      "Requirement already satisfied: gensim>=4.0.0 in c:\\users\\lenaa\\anaconda3\\envs\\mlns_project\\lib\\site-packages (from karateclub) (4.3.1)\n",
      "Requirement already satisfied: pandas<=1.3.5 in c:\\users\\lenaa\\anaconda3\\envs\\mlns_project\\lib\\site-packages (from karateclub) (1.3.5)\n",
      "Requirement already satisfied: six in c:\\users\\lenaa\\anaconda3\\envs\\mlns_project\\lib\\site-packages (from karateclub) (1.16.0)\n",
      "Requirement already satisfied: python-Levenshtein in c:\\users\\lenaa\\anaconda3\\envs\\mlns_project\\lib\\site-packages (from karateclub) (0.21.0)\n",
      "Requirement already satisfied: smart-open>=1.8.1 in c:\\users\\lenaa\\anaconda3\\envs\\mlns_project\\lib\\site-packages (from gensim>=4.0.0->karateclub) (6.3.0)\n",
      "Requirement already satisfied: python-dateutil>=2.7.3 in c:\\users\\lenaa\\anaconda3\\envs\\mlns_project\\lib\\site-packages (from pandas<=1.3.5->karateclub) (2.8.2)\n",
      "Requirement already satisfied: pytz>=2017.3 in c:\\users\\lenaa\\anaconda3\\envs\\mlns_project\\lib\\site-packages (from pandas<=1.3.5->karateclub) (2023.3)\n",
      "Requirement already satisfied: Levenshtein==0.21.0 in c:\\users\\lenaa\\anaconda3\\envs\\mlns_project\\lib\\site-packages (from python-Levenshtein->karateclub) (0.21.0)\n",
      "Requirement already satisfied: rapidfuzz<4.0.0,>=2.3.0 in c:\\users\\lenaa\\anaconda3\\envs\\mlns_project\\lib\\site-packages (from Levenshtein==0.21.0->python-Levenshtein->karateclub) (3.0.0)\n",
      "Requirement already satisfied: joblib>=1.1.1 in c:\\users\\lenaa\\anaconda3\\envs\\mlns_project\\lib\\site-packages (from scikit-learn->karateclub) (1.2.0)\n",
      "Requirement already satisfied: threadpoolctl>=2.0.0 in c:\\users\\lenaa\\anaconda3\\envs\\mlns_project\\lib\\site-packages (from scikit-learn->karateclub) (3.1.0)\n",
      "Requirement already satisfied: colorama in c:\\users\\lenaa\\anaconda3\\envs\\mlns_project\\lib\\site-packages (from tqdm->karateclub) (0.4.6)\n",
      "Note: you may need to restart the kernel to use updated packages.\n"
     ]
    }
   ],
   "source": [
    "pip install karateclub"
   ]
  },
  {
   "cell_type": "code",
   "execution_count": 2,
   "metadata": {},
   "outputs": [
    {
     "name": "stderr",
     "output_type": "stream",
     "text": [
      "c:\\Users\\lenaa\\Anaconda3\\envs\\MLNS_project\\lib\\site-packages\\tqdm\\auto.py:21: TqdmWarning: IProgress not found. Please update jupyter and ipywidgets. See https://ipywidgets.readthedocs.io/en/stable/user_install.html\n",
      "  from .autonotebook import tqdm as notebook_tqdm\n",
      "c:\\Users\\lenaa\\Anaconda3\\envs\\MLNS_project\\lib\\site-packages\\pygsp\\filters\\simpletight.py:79: SyntaxWarning: \"is\" with a literal. Did you mean \"==\"?\n",
      "  if kerneltype is 'sf':\n",
      "c:\\Users\\lenaa\\Anaconda3\\envs\\MLNS_project\\lib\\site-packages\\pygsp\\filters\\simpletight.py:82: SyntaxWarning: \"is\" with a literal. Did you mean \"==\"?\n",
      "  elif kerneltype is 'wavelet':\n"
     ]
    }
   ],
   "source": [
    "from karateclub import Graph2Vec"
   ]
  },
  {
   "cell_type": "code",
   "execution_count": 4,
   "metadata": {},
   "outputs": [],
   "source": [
    "import networkx as nx"
   ]
  },
  {
   "cell_type": "code",
   "execution_count": 7,
   "metadata": {},
   "outputs": [],
   "source": [
    "import pickle"
   ]
  },
  {
   "cell_type": "code",
   "execution_count": 22,
   "metadata": {},
   "outputs": [],
   "source": [
    "dataset = nx.read_gpickle('../data/HIV_networkx.pkl')"
   ]
  },
  {
   "cell_type": "code",
   "execution_count": 23,
   "metadata": {},
   "outputs": [],
   "source": [
    "with open('../data/labels_networkx.pkl', 'rb') as f:\n",
    "    labels = pickle.load(f)"
   ]
  },
  {
   "cell_type": "code",
   "execution_count": 62,
   "metadata": {},
   "outputs": [],
   "source": [
    "\n",
    "dic_features = dict()\n",
    "dic_elem = nx.get_node_attributes(g, \"element\")\n",
    "dic_aromatic = nx.get_node_attributes(g, \"aromatic\")\n",
    "dic_hcount = nx.get_node_attributes(g, \"hcount\")\n",
    "dic_charge = nx.get_node_attributes(g, \"charge\")\n",
    "\n",
    "\n",
    "for node in dic_features :\n",
    "    dic_features[node]=[dic_elem[node]]\n",
    "    dic_features[node].append(dic_aromatic[node])\n",
    "    dic_features[node].append(dic_hcount[node])\n",
    "    dic_features[node].append(dic_charge[node])\n",
    "\n"
   ]
  },
  {
   "cell_type": "code",
   "execution_count": 68,
   "metadata": {},
   "outputs": [],
   "source": [
    "for g in dataset :\n",
    "    dic_features = dict()\n",
    "    dic_elem = nx.get_node_attributes(g, \"element\")\n",
    "    dic_aromatic = nx.get_node_attributes(g, \"aromatic\")\n",
    "    dic_hcount = nx.get_node_attributes(g, \"hcount\")\n",
    "    dic_charge = nx.get_node_attributes(g, \"charge\")\n",
    "\n",
    "\n",
    "    for node in dic_elem :\n",
    "        dic_features[node]=[dic_elem[node]]\n",
    "        dic_features[node].append(dic_aromatic[node])\n",
    "        dic_features[node].append(dic_hcount[node])\n",
    "        dic_features[node].append(dic_charge[node])\n",
    "    nx.set_node_attributes(g,dic_features, 'feature')"
   ]
  },
  {
   "attachments": {},
   "cell_type": "markdown",
   "metadata": {},
   "source": [
    "element: str. This describes the element of the atom. Defaults to '*' meaning unknown.\n",
    "aromatic: bool. Whether the atom is part of an (anti)-aromatic system. Defaults to False.\n",
    "isotope: float. The mass of the atom. Defaults to unknown.\n",
    "hcount: int. The number of implicit hydrogens attached to this atom. Defaults to 0.\n",
    "charge: int. The charge of this atom. Defaults to 0.\n",
    "class: int. The \"class\" of this atom. Defaults to 0."
   ]
  },
  {
   "cell_type": "code",
   "execution_count": 69,
   "metadata": {},
   "outputs": [
    {
     "data": {
      "text/plain": [
       "{0: ['N', False, 2, 0],\n",
       " 1: ['N', False, 1, 0],\n",
       " 2: ['P', False, 0, 0],\n",
       " 3: ['S', False, 0, 0],\n",
       " 4: ['N', False, 1, 0],\n",
       " 5: ['N', False, 2, 0],\n",
       " 6: ['C', True, 0, 0],\n",
       " 7: ['C', True, 1, 0],\n",
       " 8: ['C', True, 1, 0],\n",
       " 9: ['C', True, 1, 0],\n",
       " 10: ['C', True, 1, 0],\n",
       " 11: ['C', True, 1, 0]}"
      ]
     },
     "execution_count": 69,
     "metadata": {},
     "output_type": "execute_result"
    }
   ],
   "source": [
    "nx.get_node_attributes(dataset[1], \"feature\")"
   ]
  },
  {
   "cell_type": "code",
   "execution_count": 70,
   "metadata": {},
   "outputs": [],
   "source": [
    "model = Graph2Vec(attributed=True, dimensions= 1228)\n",
    "\n",
    "model.fit(dataset)\n",
    "graph_emb = model.get_embedding()"
   ]
  },
  {
   "cell_type": "code",
   "execution_count": 44,
   "metadata": {},
   "outputs": [
    {
     "data": {
      "text/plain": [
       "array([[ 0.12991002,  0.04800719,  0.00109923, ..., -0.03025101,\n",
       "        -0.03591761, -0.068644  ],\n",
       "       [ 0.11026119,  0.03690032, -0.00518586, ..., -0.02304455,\n",
       "        -0.03344508, -0.0585653 ],\n",
       "       [ 0.13973689,  0.0453981 , -0.00557501, ..., -0.03539269,\n",
       "        -0.03980611, -0.07669869],\n",
       "       ...,\n",
       "       [ 0.14303206,  0.05148113, -0.00523456, ..., -0.03294419,\n",
       "        -0.04502172, -0.07931035],\n",
       "       [ 0.14717014,  0.05364874, -0.00590712, ..., -0.03514357,\n",
       "        -0.04195713, -0.07584204],\n",
       "       [ 0.13481843,  0.04649133, -0.00147134, ..., -0.03525974,\n",
       "        -0.04052421, -0.07656855]], dtype=float32)"
      ]
     },
     "execution_count": 44,
     "metadata": {},
     "output_type": "execute_result"
    }
   ],
   "source": [
    "graph_emb"
   ]
  },
  {
   "cell_type": "code",
   "execution_count": 12,
   "metadata": {},
   "outputs": [
    {
     "name": "stdout",
     "output_type": "stream",
     "text": [
      "Collecting xgboostNote: you may need to restart the kernel to use updated packages.\n",
      "\n",
      "  Downloading xgboost-1.7.5-py3-none-win_amd64.whl (70.9 MB)\n",
      "     -------------------------------------- 70.9/70.9 MB 930.9 kB/s eta 0:00:00\n",
      "Requirement already satisfied: numpy in c:\\users\\lenaa\\anaconda3\\envs\\mlns_project\\lib\\site-packages (from xgboost) (1.22.4)\n",
      "Requirement already satisfied: scipy in c:\\users\\lenaa\\anaconda3\\envs\\mlns_project\\lib\\site-packages (from xgboost) (1.10.1)\n",
      "Installing collected packages: xgboost\n",
      "Successfully installed xgboost-1.7.5\n"
     ]
    }
   ],
   "source": [
    "pip install xgboost"
   ]
  },
  {
   "cell_type": "code",
   "execution_count": 13,
   "metadata": {},
   "outputs": [],
   "source": [
    "from sklearn.model_selection import train_test_split\n",
    "from sklearn.metrics import accuracy_score\n",
    "from time import time\n",
    "from tqdm import tqdm\n",
    "from xgboost import XGBClassifier"
   ]
  },
  {
   "cell_type": "code",
   "execution_count": 87,
   "metadata": {},
   "outputs": [
    {
     "data": {
      "text/plain": [
       "[3, 4, 6, 3, 4, 3, 5, 4, 4, 4, 4, 4]"
      ]
     },
     "execution_count": 87,
     "metadata": {},
     "output_type": "execute_result"
    }
   ],
   "source": [
    "list(dict(dataset[1].degree()).values())"
   ]
  },
  {
   "cell_type": "code",
   "execution_count": 91,
   "metadata": {},
   "outputs": [],
   "source": [
    "import numpy as np"
   ]
  },
  {
   "cell_type": "code",
   "execution_count": 92,
   "metadata": {},
   "outputs": [],
   "source": [
    "def create_features(g,emb):\n",
    "    degree = list((dict(g.degree()).values()))\n",
    "    num_edges = g.number_of_edges()\n",
    "    num_nodes = g.number_of_nodes()\n",
    "    laplacian = nx.laplacian_matrix(g).astype(np.float32).toarray()\n",
    "    eigenvals, eigenvecs = np.linalg.eigh(laplacian)\n",
    "    return emb+ [ np.mean(degree), np.max(degree)/len(degree), 100*num_edges / (num_nodes * (num_nodes - 1))] + list(eigenvals[-3:])"
   ]
  },
  {
   "cell_type": "code",
   "execution_count": 94,
   "metadata": {},
   "outputs": [
    {
     "name": "stderr",
     "output_type": "stream",
     "text": [
      "100%|██████████| 2443/2443 [00:10<00:00, 228.43it/s]\n"
     ]
    }
   ],
   "source": [
    "new_dataset = list()\n",
    "for i in tqdm(range(len(dataset))):\n",
    "    g = dataset[i]\n",
    "    emb = list(graph_emb[i])\n",
    "    features = create_features(g,emb)\n",
    "    new_dataset.append(features)"
   ]
  },
  {
   "cell_type": "code",
   "execution_count": 95,
   "metadata": {},
   "outputs": [],
   "source": [
    "train_dataset, test_dataset, train_labels, test_labels = train_test_split(graph_emb, labels, test_size=0.25, random_state=42)"
   ]
  },
  {
   "cell_type": "code",
   "execution_count": 96,
   "metadata": {},
   "outputs": [],
   "source": [
    "xgb =XGBClassifier(random_state=0)\n",
    "\n",
    "xgb.fit(train_dataset, train_labels)\n",
    "predxgb = xgb.predict(test_dataset)"
   ]
  },
  {
   "cell_type": "code",
   "execution_count": 97,
   "metadata": {},
   "outputs": [
    {
     "data": {
      "text/plain": [
       "0.5597381342062193"
      ]
     },
     "execution_count": 97,
     "metadata": {},
     "output_type": "execute_result"
    }
   ],
   "source": [
    "accuracy_score(test_labels, predxgb)"
   ]
  },
  {
   "cell_type": "code",
   "execution_count": 18,
   "metadata": {},
   "outputs": [],
   "source": [
    "import sklearn"
   ]
  },
  {
   "cell_type": "code",
   "execution_count": 98,
   "metadata": {},
   "outputs": [
    {
     "data": {
      "text/plain": [
       "array([[172,  66,   0],\n",
       "       [126, 125,  21],\n",
       "       [ 21,  35,  45]], dtype=int64)"
      ]
     },
     "execution_count": 98,
     "metadata": {},
     "output_type": "execute_result"
    }
   ],
   "source": [
    "sklearn.metrics.confusion_matrix(test_labels, predxgb)"
   ]
  },
  {
   "cell_type": "code",
   "execution_count": 99,
   "metadata": {},
   "outputs": [],
   "source": [
    "from sklearn.cluster import KMeans"
   ]
  },
  {
   "cell_type": "code",
   "execution_count": 100,
   "metadata": {},
   "outputs": [],
   "source": [
    "kmeans = KMeans(n_clusters=3, random_state=0, n_init=\"auto\").fit(train_dataset)"
   ]
  },
  {
   "cell_type": "code",
   "execution_count": 101,
   "metadata": {},
   "outputs": [],
   "source": [
    "pred =kmeans.labels_"
   ]
  },
  {
   "cell_type": "code",
   "execution_count": 102,
   "metadata": {},
   "outputs": [
    {
     "data": {
      "text/plain": [
       "0.37445414847161573"
      ]
     },
     "execution_count": 102,
     "metadata": {},
     "output_type": "execute_result"
    }
   ],
   "source": [
    "accuracy_score(train_labels, pred)"
   ]
  }
 ],
 "metadata": {
  "kernelspec": {
   "display_name": "Python 3",
   "language": "python",
   "name": "python3"
  },
  "language_info": {
   "codemirror_mode": {
    "name": "ipython",
    "version": 3
   },
   "file_extension": ".py",
   "mimetype": "text/x-python",
   "name": "python",
   "nbconvert_exporter": "python",
   "pygments_lexer": "ipython3",
   "version": "3.9.16"
  },
  "orig_nbformat": 4
 },
 "nbformat": 4,
 "nbformat_minor": 2
}
