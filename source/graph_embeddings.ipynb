{
 "cells": [
  {
   "cell_type": "code",
   "execution_count": 1,
   "metadata": {},
   "outputs": [
    {
     "name": "stdout",
     "output_type": "stream",
     "text": [
      "Collecting karateclub\n",
      "  Using cached karateclub-1.3.3-py3-none-any.whl\n",
      "Collecting pandas<=1.3.5\n",
      "  Using cached pandas-1.3.5-cp310-cp310-win_amd64.whl (10.2 MB)\n",
      "Collecting python-Levenshtein\n",
      "  Using cached python_Levenshtein-0.21.0-py3-none-any.whl (9.4 kB)\n",
      "Requirement already satisfied: scipy in c:\\users\\lenaa\\appdata\\local\\continuum\\miniconda3\\envs\\dl_segmentation\\lib\\site-packages (from karateclub) (1.10.1)\n",
      "Requirement already satisfied: six in c:\\users\\lenaa\\appdata\\local\\continuum\\miniconda3\\envs\\dl_segmentation\\lib\\site-packages (from karateclub) (1.16.0)\n",
      "Collecting decorator==4.4.2\n",
      "  Using cached decorator-4.4.2-py2.py3-none-any.whl (9.2 kB)\n",
      "Collecting networkx<2.7\n",
      "  Using cached networkx-2.6.3-py3-none-any.whl (1.9 MB)\n",
      "Requirement already satisfied: scikit-learn in c:\\users\\lenaa\\appdata\\local\\continuum\\miniconda3\\envs\\dl_segmentation\\lib\\site-packages (from karateclub) (1.2.1)\n",
      "Collecting numpy<1.23.0\n",
      "  Using cached numpy-1.22.4-cp310-cp310-win_amd64.whl (14.7 MB)\n",
      "Requirement already satisfied: gensim>=4.0.0 in c:\\users\\lenaa\\appdata\\local\\continuum\\miniconda3\\envs\\dl_segmentation\\lib\\site-packages (from karateclub) (4.3.0)\n",
      "Collecting pygsp\n",
      "  Using cached PyGSP-0.5.1-py2.py3-none-any.whl (1.8 MB)\n",
      "Requirement already satisfied: tqdm in c:\\users\\lenaa\\appdata\\local\\continuum\\miniconda3\\envs\\dl_segmentation\\lib\\site-packages (from karateclub) (4.65.0)\n",
      "Collecting python-louvain\n",
      "  Using cached python_louvain-0.16-py3-none-any.whl\n",
      "Requirement already satisfied: FuzzyTM>=0.4.0 in c:\\users\\lenaa\\appdata\\local\\continuum\\miniconda3\\envs\\dl_segmentation\\lib\\site-packages (from gensim>=4.0.0->karateclub) (2.0.5)\n",
      "Requirement already satisfied: smart-open>=1.8.1 in c:\\users\\lenaa\\appdata\\local\\continuum\\miniconda3\\envs\\dl_segmentation\\lib\\site-packages (from gensim>=4.0.0->karateclub) (6.3.0)\n",
      "Requirement already satisfied: Cython==0.29.32 in c:\\users\\lenaa\\appdata\\local\\continuum\\miniconda3\\envs\\dl_segmentation\\lib\\site-packages (from gensim>=4.0.0->karateclub) (0.29.32)\n",
      "Requirement already satisfied: python-dateutil>=2.7.3 in c:\\users\\lenaa\\appdata\\local\\continuum\\miniconda3\\envs\\dl_segmentation\\lib\\site-packages (from pandas<=1.3.5->karateclub) (2.8.2)\n",
      "Requirement already satisfied: pytz>=2017.3 in c:\\users\\lenaa\\appdata\\local\\continuum\\miniconda3\\envs\\dl_segmentation\\lib\\site-packages (from pandas<=1.3.5->karateclub) (2022.7.1)\n",
      "Collecting Levenshtein==0.21.0\n",
      "  Using cached Levenshtein-0.21.0-cp310-cp310-win_amd64.whl (100 kB)\n",
      "Requirement already satisfied: rapidfuzz<4.0.0,>=2.3.0 in c:\\users\\lenaa\\appdata\\local\\continuum\\miniconda3\\envs\\dl_segmentation\\lib\\site-packages (from Levenshtein==0.21.0->python-Levenshtein->karateclub) (3.0.0)\n",
      "Requirement already satisfied: joblib>=1.1.1 in c:\\users\\lenaa\\appdata\\local\\continuum\\miniconda3\\envs\\dl_segmentation\\lib\\site-packages (from scikit-learn->karateclub) (1.2.0)\n",
      "Requirement already satisfied: threadpoolctl>=2.0.0 in c:\\users\\lenaa\\appdata\\local\\continuum\\miniconda3\\envs\\dl_segmentation\\lib\\site-packages (from scikit-learn->karateclub) (3.1.0)\n",
      "Requirement already satisfied: colorama in c:\\users\\lenaa\\appdata\\local\\continuum\\miniconda3\\envs\\dl_segmentation\\lib\\site-packages (from tqdm->karateclub) (0.4.6)\n",
      "Requirement already satisfied: pyfume in c:\\users\\lenaa\\appdata\\local\\continuum\\miniconda3\\envs\\dl_segmentation\\lib\\site-packages (from FuzzyTM>=0.4.0->gensim>=4.0.0->karateclub) (0.2.25)\n",
      "Requirement already satisfied: fst-pso in c:\\users\\lenaa\\appdata\\local\\continuum\\miniconda3\\envs\\dl_segmentation\\lib\\site-packages (from pyfume->FuzzyTM>=0.4.0->gensim>=4.0.0->karateclub) (1.8.1)\n",
      "Requirement already satisfied: simpful in c:\\users\\lenaa\\appdata\\local\\continuum\\miniconda3\\envs\\dl_segmentation\\lib\\site-packages (from pyfume->FuzzyTM>=0.4.0->gensim>=4.0.0->karateclub) (2.10.0)\n",
      "Requirement already satisfied: miniful in c:\\users\\lenaa\\appdata\\local\\continuum\\miniconda3\\envs\\dl_segmentation\\lib\\site-packages (from fst-pso->pyfume->FuzzyTM>=0.4.0->gensim>=4.0.0->karateclub) (0.0.6)\n",
      "Requirement already satisfied: requests in c:\\users\\lenaa\\appdata\\local\\continuum\\miniconda3\\envs\\dl_segmentation\\lib\\site-packages (from simpful->pyfume->FuzzyTM>=0.4.0->gensim>=4.0.0->karateclub) (2.28.1)\n",
      "Requirement already satisfied: charset-normalizer<3,>=2 in c:\\users\\lenaa\\appdata\\local\\continuum\\miniconda3\\envs\\dl_segmentation\\lib\\site-packages (from requests->simpful->pyfume->FuzzyTM>=0.4.0->gensim>=4.0.0->karateclub) (2.1.1)\n",
      "Requirement already satisfied: urllib3<1.27,>=1.21.1 in c:\\users\\lenaa\\appdata\\local\\continuum\\miniconda3\\envs\\dl_segmentation\\lib\\site-packages (from requests->simpful->pyfume->FuzzyTM>=0.4.0->gensim>=4.0.0->karateclub) (1.26.13)\n",
      "Requirement already satisfied: idna<4,>=2.5 in c:\\users\\lenaa\\appdata\\local\\continuum\\miniconda3\\envs\\dl_segmentation\\lib\\site-packages (from requests->simpful->pyfume->FuzzyTM>=0.4.0->gensim>=4.0.0->karateclub) (3.4)\n",
      "Requirement already satisfied: certifi>=2017.4.17 in c:\\users\\lenaa\\appdata\\local\\continuum\\miniconda3\\envs\\dl_segmentation\\lib\\site-packages (from requests->simpful->pyfume->FuzzyTM>=0.4.0->gensim>=4.0.0->karateclub) (2022.12.7)\n",
      "Installing collected packages: numpy, networkx, Levenshtein, decorator, python-louvain, python-Levenshtein, pandas, pygsp, karateclub\n",
      "  Attempting uninstall: numpy\n",
      "    Found existing installation: numpy 1.24.1\n",
      "    Uninstalling numpy-1.24.1:\n",
      "      Successfully uninstalled numpy-1.24.1\n",
      "  Attempting uninstall: networkx\n",
      "    Found existing installation: networkx 2.8.8\n",
      "    Uninstalling networkx-2.8.8:\n",
      "      Successfully uninstalled networkx-2.8.8\n",
      "  Attempting uninstall: decorator\n",
      "    Found existing installation: decorator 5.1.1\n",
      "    Uninstalling decorator-5.1.1:\n",
      "      Successfully uninstalled decorator-5.1.1\n",
      "  Attempting uninstall: pandas\n",
      "    Found existing installation: pandas 1.5.3\n",
      "    Uninstalling pandas-1.5.3:\n",
      "      Successfully uninstalled pandas-1.5.3\n",
      "Note: you may need to restart the kernel to use updated packages.\n"
     ]
    },
    {
     "name": "stderr",
     "output_type": "stream",
     "text": [
      "ERROR: Could not install packages due to an OSError: [WinError 5] Accès refusé: 'C:\\\\Users\\\\lenaa\\\\AppData\\\\Local\\\\Continuum\\\\miniconda3\\\\envs\\\\DL_segmentation\\\\Lib\\\\site-packages\\\\~-ndas\\\\_libs\\\\algos.cp310-win_amd64.pyd'\n",
      "Consider using the `--user` option or check the permissions.\n",
      "\n"
     ]
    }
   ],
   "source": [
    "pip install karateclub"
   ]
  },
  {
   "cell_type": "code",
   "execution_count": 2,
   "metadata": {},
   "outputs": [
    {
     "name": "stderr",
     "output_type": "stream",
     "text": [
      "c:\\Users\\lenaa\\AppData\\Local\\Continuum\\miniconda3\\envs\\DL_segmentation\\lib\\site-packages\\dgl\\backend\\pytorch\\tensor.py:31: UserWarning: Failed to initialize NumPy: module compiled against API version 0x10 but this version of numpy is 0xf . Check the section C-API incompatibility at the Troubleshooting ImportError section at https://numpy.org/devdocs/user/troubleshooting-importerror.html#c-api-incompatibility for indications on how to solve this problem . (Triggered internally at ..\\torch\\csrc\\utils\\tensor_numpy.cpp:84.)\n",
      "  return th.device('cpu')\n"
     ]
    }
   ],
   "source": [
    "import dgl"
   ]
  },
  {
   "cell_type": "code",
   "execution_count": 7,
   "metadata": {},
   "outputs": [
    {
     "name": "stdout",
     "output_type": "stream",
     "text": [
      "Collecting numpy==1.24.1Note: you may need to restart the kernel to use updated packages.\n",
      "\n",
      "  Using cached numpy-1.24.1-cp310-cp310-win_amd64.whl (14.8 MB)\n"
     ]
    },
    {
     "name": "stderr",
     "output_type": "stream",
     "text": [
      "ERROR: Could not find a version that satisfies the requirement user (from versions: none)\n",
      "ERROR: No matching distribution found for user\n"
     ]
    }
   ],
   "source": [
    "pip install numpy==1.24.1 -- user"
   ]
  },
  {
   "cell_type": "code",
   "execution_count": 4,
   "metadata": {},
   "outputs": [],
   "source": [
    "import numpy\n",
    "import torch"
   ]
  },
  {
   "cell_type": "code",
   "execution_count": 8,
   "metadata": {},
   "outputs": [
    {
     "name": "stdout",
     "output_type": "stream",
     "text": [
      "Name: numpy\n",
      "Version: 1.22.4\n",
      "Summary: NumPy is the fundamental package for array computing with Python.\n",
      "Home-page: https://www.numpy.org\n",
      "Author: Travis E. Oliphant et al.\n",
      "Author-email: \n",
      "License: BSD\n",
      "Location: c:\\users\\lenaa\\appdata\\local\\continuum\\miniconda3\\envs\\dl_segmentation\\lib\\site-packages\n",
      "Requires: \n",
      "Required-by: albumentations, altair, contourpy, dgl, dgllife, folium, fst-pso, FuzzyTM, gensim, gym, gymnasium, hyperopt, imageio, jax-jumpy, matplotlib, miniful, mkl-fft, mkl-random, node2vec, opencv-python, opencv-python-headless, pandas, pyarrow, pydeck, pyFUME, python-louvain, PyWavelets, qudida, rdkit, scikit-image, scikit-learn, scipy, seaborn, shapely, simpful, streamlit, text-flappy-bird-gym, tifffile, torchvision, xgboost, yfinance\n",
      "Note: you may need to restart the kernel to use updated packages.\n"
     ]
    }
   ],
   "source": [
    "pip show numpy"
   ]
  },
  {
   "cell_type": "code",
   "execution_count": 3,
   "metadata": {},
   "outputs": [],
   "source": [
    "dataset, labels_g = dgl.load_graphs(\"../data/HIV_dgl_graphs\")"
   ]
  },
  {
   "cell_type": "code",
   "execution_count": 6,
   "metadata": {},
   "outputs": [],
   "source": [
    "labels_g = labels_g['glabel'].tolist()"
   ]
  },
  {
   "cell_type": "code",
   "execution_count": 8,
   "metadata": {},
   "outputs": [
    {
     "data": {
      "text/plain": [
       "Graph(num_nodes=22, num_edges=46,\n",
       "      ndata_schemes={'atomic': Scheme(shape=(1,), dtype=torch.float32)}\n",
       "      edata_schemes={'type': Scheme(shape=(1,), dtype=torch.float32)})"
      ]
     },
     "execution_count": 8,
     "metadata": {},
     "output_type": "execute_result"
    }
   ],
   "source": [
    "dataset[0]"
   ]
  },
  {
   "cell_type": "code",
   "execution_count": 16,
   "metadata": {},
   "outputs": [
    {
     "ename": "RuntimeError",
     "evalue": "Numpy is not available",
     "output_type": "error",
     "traceback": [
      "\u001b[1;31m---------------------------------------------------------------------------\u001b[0m",
      "\u001b[1;31mRuntimeError\u001b[0m                              Traceback (most recent call last)",
      "\u001b[1;32mc:\\Users\\lenaa\\Desktop\\3A Centrale\\2e trimestre\\MLNS\\projet-groupe\\MLNS_project\\source\\graph_embeddings.ipynb Cell 8\u001b[0m in \u001b[0;36m<cell line: 2>\u001b[1;34m()\u001b[0m\n\u001b[0;32m      <a href='vscode-notebook-cell:/c%3A/Users/lenaa/Desktop/3A%20Centrale/2e%20trimestre/MLNS/projet-groupe/MLNS_project/source/graph_embeddings.ipynb#W5sZmlsZQ%3D%3D?line=0'>1</a>\u001b[0m nx_dataset\u001b[39m=\u001b[39m[]\n\u001b[0;32m      <a href='vscode-notebook-cell:/c%3A/Users/lenaa/Desktop/3A%20Centrale/2e%20trimestre/MLNS/projet-groupe/MLNS_project/source/graph_embeddings.ipynb#W5sZmlsZQ%3D%3D?line=1'>2</a>\u001b[0m \u001b[39mfor\u001b[39;00m g \u001b[39min\u001b[39;00m dataset :\n\u001b[1;32m----> <a href='vscode-notebook-cell:/c%3A/Users/lenaa/Desktop/3A%20Centrale/2e%20trimestre/MLNS/projet-groupe/MLNS_project/source/graph_embeddings.ipynb#W5sZmlsZQ%3D%3D?line=2'>3</a>\u001b[0m     nx_dataset\u001b[39m.\u001b[39mappend(dgl\u001b[39m.\u001b[39;49mto_networkx(g, node_attrs\u001b[39m=\u001b[39;49m[\u001b[39m'\u001b[39;49m\u001b[39matomic\u001b[39;49m\u001b[39m'\u001b[39;49m], edge_attrs\u001b[39m=\u001b[39;49m[\u001b[39m'\u001b[39;49m\u001b[39mtype\u001b[39;49m\u001b[39m'\u001b[39;49m]))\n",
      "File \u001b[1;32mc:\\Users\\lenaa\\AppData\\Local\\Continuum\\miniconda3\\envs\\DL_segmentation\\lib\\site-packages\\dgl\\convert.py:1604\u001b[0m, in \u001b[0;36mto_networkx\u001b[1;34m(g, node_attrs, edge_attrs)\u001b[0m\n\u001b[0;32m   1602\u001b[0m     \u001b[39mraise\u001b[39;00m DGLError(\u001b[39m'\u001b[39m\u001b[39mdgl.to_networkx only supports homogeneous graphs.\u001b[39m\u001b[39m'\u001b[39m)\n\u001b[0;32m   1603\u001b[0m src, dst \u001b[39m=\u001b[39m g\u001b[39m.\u001b[39medges()\n\u001b[1;32m-> 1604\u001b[0m src \u001b[39m=\u001b[39m F\u001b[39m.\u001b[39;49masnumpy(src)\n\u001b[0;32m   1605\u001b[0m dst \u001b[39m=\u001b[39m F\u001b[39m.\u001b[39masnumpy(dst)\n\u001b[0;32m   1606\u001b[0m \u001b[39m# xiangsx: Always treat graph as multigraph\u001b[39;00m\n",
      "File \u001b[1;32mc:\\Users\\lenaa\\AppData\\Local\\Continuum\\miniconda3\\envs\\DL_segmentation\\lib\\site-packages\\dgl\\backend\\pytorch\\tensor.py:108\u001b[0m, in \u001b[0;36masnumpy\u001b[1;34m(input)\u001b[0m\n\u001b[0;32m    106\u001b[0m     \u001b[39mreturn\u001b[39;00m \u001b[39minput\u001b[39m\u001b[39m.\u001b[39mto_dense()\u001b[39m.\u001b[39mcpu()\u001b[39m.\u001b[39mdetach()\u001b[39m.\u001b[39mnumpy()\n\u001b[0;32m    107\u001b[0m \u001b[39melse\u001b[39;00m:\n\u001b[1;32m--> 108\u001b[0m     \u001b[39mreturn\u001b[39;00m \u001b[39minput\u001b[39;49m\u001b[39m.\u001b[39;49mcpu()\u001b[39m.\u001b[39;49mdetach()\u001b[39m.\u001b[39;49mnumpy()\n",
      "\u001b[1;31mRuntimeError\u001b[0m: Numpy is not available"
     ]
    }
   ],
   "source": [
    "nx_dataset=[]\n",
    "for g in dataset :\n",
    "    nx_dataset.append(dgl.to_networkx(g, node_attrs=['atomic'], edge_attrs=['type']))"
   ]
  }
 ],
 "metadata": {
  "kernelspec": {
   "display_name": "Python 3",
   "language": "python",
   "name": "python3"
  },
  "language_info": {
   "codemirror_mode": {
    "name": "ipython",
    "version": 3
   },
   "file_extension": ".py",
   "mimetype": "text/x-python",
   "name": "python",
   "nbconvert_exporter": "python",
   "pygments_lexer": "ipython3",
   "version": "3.10.8"
  },
  "orig_nbformat": 4
 },
 "nbformat": 4,
 "nbformat_minor": 2
}
