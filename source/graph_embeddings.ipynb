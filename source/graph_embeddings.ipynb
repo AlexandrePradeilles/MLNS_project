{
 "cells": [
  {
   "cell_type": "code",
   "execution_count": null,
   "metadata": {},
   "outputs": [],
   "source": [
    "# pip install karateclub"
   ]
  },
  {
   "cell_type": "code",
   "execution_count": null,
   "metadata": {},
   "outputs": [],
   "source": [
    "# pip install xgboost"
   ]
  },
  {
   "cell_type": "code",
   "execution_count": null,
   "metadata": {},
   "outputs": [],
   "source": [
    "from karateclub import Graph2Vec"
   ]
  },
  {
   "cell_type": "code",
   "execution_count": 4,
   "metadata": {},
   "outputs": [],
   "source": [
    "import networkx as nx\n",
    "import pickle\n",
    "from sklearn.model_selection import train_test_split\n",
    "from sklearn.metrics import accuracy_score\n",
    "from time import time\n",
    "from tqdm import tqdm\n",
    "from xgboost import XGBClassifier\n",
    "import numpy as np\n",
    "import sklearn"
   ]
  },
  {
   "cell_type": "code",
   "execution_count": 22,
   "metadata": {},
   "outputs": [],
   "source": [
    "dataset = nx.read_gpickle('../data/HIV_networkx.pkl')"
   ]
  },
  {
   "cell_type": "code",
   "execution_count": 23,
   "metadata": {},
   "outputs": [],
   "source": [
    "with open('../data/labels_networkx.pkl', 'rb') as f:\n",
    "    labels = pickle.load(f)"
   ]
  },
  {
   "cell_type": "code",
   "execution_count": 62,
   "metadata": {},
   "outputs": [],
   "source": [
    "\n",
    "dic_features = dict()\n",
    "dic_elem = nx.get_node_attributes(g, \"element\")\n",
    "dic_aromatic = nx.get_node_attributes(g, \"aromatic\")\n",
    "dic_hcount = nx.get_node_attributes(g, \"hcount\")\n",
    "dic_charge = nx.get_node_attributes(g, \"charge\")\n",
    "\n",
    "\n",
    "for node in dic_features :\n",
    "    dic_features[node]=[dic_elem[node]]\n",
    "    dic_features[node].append(dic_aromatic[node])\n",
    "    dic_features[node].append(dic_hcount[node])\n",
    "    dic_features[node].append(dic_charge[node])\n",
    "\n"
   ]
  },
  {
   "cell_type": "code",
   "execution_count": 68,
   "metadata": {},
   "outputs": [],
   "source": [
    "for g in dataset :\n",
    "    dic_features = dict()\n",
    "    dic_elem = nx.get_node_attributes(g, \"element\")\n",
    "    dic_aromatic = nx.get_node_attributes(g, \"aromatic\")\n",
    "    dic_hcount = nx.get_node_attributes(g, \"hcount\")\n",
    "    dic_charge = nx.get_node_attributes(g, \"charge\")\n",
    "\n",
    "\n",
    "    for node in dic_elem :\n",
    "        dic_features[node]=[dic_elem[node]]\n",
    "        dic_features[node].append(dic_aromatic[node])\n",
    "        dic_features[node].append(dic_hcount[node])\n",
    "        dic_features[node].append(dic_charge[node])\n",
    "    nx.set_node_attributes(g,dic_features, 'feature')"
   ]
  },
  {
   "attachments": {},
   "cell_type": "markdown",
   "metadata": {},
   "source": [
    "element: str. This describes the element of the atom. Defaults to '*' meaning unknown.\n",
    "aromatic: bool. Whether the atom is part of an (anti)-aromatic system. Defaults to False.\n",
    "isotope: float. The mass of the atom. Defaults to unknown.\n",
    "hcount: int. The number of implicit hydrogens attached to this atom. Defaults to 0.\n",
    "charge: int. The charge of this atom. Defaults to 0.\n",
    "class: int. The \"class\" of this atom. Defaults to 0."
   ]
  },
  {
   "cell_type": "code",
   "execution_count": 69,
   "metadata": {},
   "outputs": [
    {
     "data": {
      "text/plain": [
       "{0: ['N', False, 2, 0],\n",
       " 1: ['N', False, 1, 0],\n",
       " 2: ['P', False, 0, 0],\n",
       " 3: ['S', False, 0, 0],\n",
       " 4: ['N', False, 1, 0],\n",
       " 5: ['N', False, 2, 0],\n",
       " 6: ['C', True, 0, 0],\n",
       " 7: ['C', True, 1, 0],\n",
       " 8: ['C', True, 1, 0],\n",
       " 9: ['C', True, 1, 0],\n",
       " 10: ['C', True, 1, 0],\n",
       " 11: ['C', True, 1, 0]}"
      ]
     },
     "execution_count": 69,
     "metadata": {},
     "output_type": "execute_result"
    }
   ],
   "source": [
    "nx.get_node_attributes(dataset[1], \"feature\")"
   ]
  },
  {
   "cell_type": "code",
   "execution_count": 70,
   "metadata": {},
   "outputs": [],
   "source": [
    "model = Graph2Vec(attributed=True, dimensions= 1228)\n",
    "\n",
    "model.fit(dataset)\n",
    "graph_emb = model.get_embedding()"
   ]
  },
  {
   "cell_type": "code",
   "execution_count": 92,
   "metadata": {},
   "outputs": [],
   "source": [
    "def create_features(g,emb):\n",
    "    degree = list((dict(g.degree()).values()))\n",
    "    num_edges = g.number_of_edges()\n",
    "    num_nodes = g.number_of_nodes()\n",
    "    laplacian = nx.laplacian_matrix(g).astype(np.float32).toarray()\n",
    "    eigenvals, eigenvecs = np.linalg.eigh(laplacian)\n",
    "    return emb+ [ np.mean(degree), np.max(degree)/len(degree), 100*num_edges / (num_nodes * (num_nodes - 1))] + list(eigenvals[-3:])"
   ]
  },
  {
   "cell_type": "code",
   "execution_count": 94,
   "metadata": {},
   "outputs": [
    {
     "name": "stderr",
     "output_type": "stream",
     "text": [
      "100%|██████████| 2443/2443 [00:10<00:00, 228.43it/s]\n"
     ]
    }
   ],
   "source": [
    "new_dataset = list()\n",
    "for i in tqdm(range(len(dataset))):\n",
    "    g = dataset[i]\n",
    "    emb = list(graph_emb[i])\n",
    "    features = create_features(g,emb)\n",
    "    new_dataset.append(features)"
   ]
  },
  {
   "cell_type": "code",
   "execution_count": 95,
   "metadata": {},
   "outputs": [],
   "source": [
    "train_dataset, test_dataset, train_labels, test_labels = train_test_split(graph_emb, labels, test_size=0.25, random_state=42)"
   ]
  },
  {
   "cell_type": "code",
   "execution_count": 96,
   "metadata": {},
   "outputs": [],
   "source": [
    "xgb =XGBClassifier(random_state=0)\n",
    "\n",
    "xgb.fit(train_dataset, train_labels)\n",
    "predxgb = xgb.predict(test_dataset)"
   ]
  },
  {
   "cell_type": "code",
   "execution_count": 97,
   "metadata": {},
   "outputs": [
    {
     "data": {
      "text/plain": [
       "0.5597381342062193"
      ]
     },
     "execution_count": 97,
     "metadata": {},
     "output_type": "execute_result"
    }
   ],
   "source": [
    "accuracy_score(test_labels, predxgb)"
   ]
  },
  {
   "cell_type": "code",
   "execution_count": 98,
   "metadata": {},
   "outputs": [
    {
     "data": {
      "text/plain": [
       "array([[172,  66,   0],\n",
       "       [126, 125,  21],\n",
       "       [ 21,  35,  45]], dtype=int64)"
      ]
     },
     "execution_count": 98,
     "metadata": {},
     "output_type": "execute_result"
    }
   ],
   "source": [
    "sklearn.metrics.confusion_matrix(test_labels, predxgb)"
   ]
  },
  {
   "attachments": {},
   "cell_type": "markdown",
   "metadata": {},
   "source": [
    "Attempt with clustering"
   ]
  },
  {
   "cell_type": "code",
   "execution_count": 99,
   "metadata": {},
   "outputs": [],
   "source": [
    "from sklearn.cluster import KMeans"
   ]
  },
  {
   "cell_type": "code",
   "execution_count": 100,
   "metadata": {},
   "outputs": [],
   "source": [
    "kmeans = KMeans(n_clusters=3, random_state=0, n_init=\"auto\").fit(train_dataset)"
   ]
  },
  {
   "cell_type": "code",
   "execution_count": 101,
   "metadata": {},
   "outputs": [],
   "source": [
    "pred =kmeans.labels_"
   ]
  },
  {
   "cell_type": "code",
   "execution_count": 102,
   "metadata": {},
   "outputs": [
    {
     "data": {
      "text/plain": [
       "0.37445414847161573"
      ]
     },
     "execution_count": 102,
     "metadata": {},
     "output_type": "execute_result"
    }
   ],
   "source": [
    "accuracy_score(train_labels, pred)"
   ]
  }
 ],
 "metadata": {
  "kernelspec": {
   "display_name": "Python 3",
   "language": "python",
   "name": "python3"
  },
  "language_info": {
   "codemirror_mode": {
    "name": "ipython",
    "version": 3
   },
   "file_extension": ".py",
   "mimetype": "text/x-python",
   "name": "python",
   "nbconvert_exporter": "python",
   "pygments_lexer": "ipython3",
   "version": "3.9.16"
  },
  "orig_nbformat": 4
 },
 "nbformat": 4,
 "nbformat_minor": 2
}
