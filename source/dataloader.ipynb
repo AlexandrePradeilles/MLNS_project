{
 "cells": [
  {
   "cell_type": "code",
   "execution_count": 47,
   "metadata": {},
   "outputs": [],
   "source": [
    "import numpy as np\n",
    "import pandas as pd\n",
    "import scipy.sparse as sp\n",
    "\n",
    "import dgl\n",
    "import networkx as nx\n",
    "import numpy as np\n",
    "import torch\n",
    "import torch.nn.functional as F\n",
    "from dgl.dataloading import GraphDataLoader\n",
    "from sklearn.model_selection import train_test_split\n",
    "from time import time\n",
    "from tqdm import tqdm"
   ]
  },
  {
   "cell_type": "code",
   "execution_count": 21,
   "metadata": {},
   "outputs": [],
   "source": [
    "graph_idx = np.loadtxt(\"./AIDS/AIDS.graph_idx\")\n",
    "nodes_features = np.loadtxt(\"./AIDS/AIDS.node_attrs\", delimiter=',')\n",
    "edges_list = np.loadtxt(\"./AIDS/AIDS.edges\", delimiter=',')\n",
    "labels = np.loadtxt(\"./AIDS/AIDS.graph_labels\")"
   ]
  },
  {
   "cell_type": "code",
   "execution_count": 25,
   "metadata": {},
   "outputs": [
    {
     "data": {
      "text/plain": [
       "(64780, 2)"
      ]
     },
     "execution_count": 25,
     "metadata": {},
     "output_type": "execute_result"
    }
   ],
   "source": [
    "edges_list.shape"
   ]
  },
  {
   "cell_type": "code",
   "execution_count": 43,
   "metadata": {},
   "outputs": [],
   "source": [
    "def load_data(graph_indicator, edges, x): \n",
    "    \"\"\"\n",
    "    Function that loads graphs data\n",
    "    \"\"\"\n",
    "    _,graph_size = np.unique(graph_indicator, return_counts=True)\n",
    "\n",
    "    edges_inv = np.vstack((edges[:,1], edges[:,0]))\n",
    "    edges = np.vstack((edges, edges_inv.T)) - 1\n",
    "    s = edges[:,0]*graph_indicator.size + edges[:,1]\n",
    "    idx_sort = np.argsort(s)\n",
    "    edges = edges[idx_sort,:]\n",
    "    edges,idx_unique =  np.unique(edges, axis=0, return_index=True)\n",
    "\n",
    "    A = sp.csr_matrix((np.ones(edges.shape[0]), (edges[:,0], edges[:,1])), shape=(graph_indicator.size, graph_indicator.size))\n",
    "    \n",
    "    adj = []\n",
    "    features = []\n",
    "    edges_couples = []\n",
    "    idx_n = 0\n",
    "    idx_m = 0\n",
    "    for i in range(graph_size.size):\n",
    "        adj.append(A[idx_n:idx_n+graph_size[i],idx_n:idx_n+graph_size[i]])\n",
    "        couples = edges[idx_m:idx_m+adj[i].nnz,:]\n",
    "        couples = couples - np.min(couples)\n",
    "        edges_couples.append(couples)\n",
    "        features.append(x[idx_n:idx_n+graph_size[i],:])\n",
    "        idx_n += graph_size[i]\n",
    "        idx_m += adj[i].nnz\n",
    "\n",
    "    return adj, features, edges_couples"
   ]
  },
  {
   "cell_type": "code",
   "execution_count": 44,
   "metadata": {},
   "outputs": [],
   "source": [
    "adj, features, edges_couples = load_data(graph_idx, edges_list, nodes_features)"
   ]
  },
  {
   "cell_type": "code",
   "execution_count": 48,
   "metadata": {},
   "outputs": [],
   "source": [
    "def net_graph(features, couples):\n",
    "    \"\"\"\n",
    "    Create a networkx graph\n",
    "\n",
    "    Parameters\n",
    "    ----------\n",
    "    features : list of np.arrays\n",
    "        list of features per node\n",
    "    couples : list of tuples\n",
    "        list of the related nodes\n",
    "    edg_feat : list of np.arrays\n",
    "        list of features per node\n",
    "    \"\"\"\n",
    "    G = nx.Graph()\n",
    "    for i in range(len(couples)):\n",
    "        # Keep only edges not based on distance\n",
    "        [l, m] = couples[i]\n",
    "        G.add_edge(l, m)\n",
    "    for node in range(len(features)):\n",
    "        G.add_node(node, feature=features[node])\n",
    "    return G"
   ]
  },
  {
   "cell_type": "code",
   "execution_count": 54,
   "metadata": {},
   "outputs": [
    {
     "name": "stderr",
     "output_type": "stream",
     "text": [
      "100%|██████████| 2000/2000 [00:00<00:00, 2380.46it/s]\n"
     ]
    }
   ],
   "source": [
    "# Create the dgl graphs\n",
    "dataset = list()\n",
    "for k in tqdm(range(len(features))):\n",
    "    dataset.append(dgl.from_networkx(net_graph(features[k], edges_couples[k]),\n",
    "                                        node_attrs=['feature']))\n",
    "\n",
    "# dgl.save_graphs('./data/train_full_graphs_t5.dgl', dataset)\n",
    "\n",
    "# dataset = dgl.load_graphs('./data/train_full_graphs_t5.dgl')\n",
    "# Ensure to have self loop in the graph\n",
    "dataset = [(dgl.add_self_loop(dataset[i]), torch.tensor(labels[i])) for i in range(len(dataset))]\n",
    "\n",
    "# dgl.save_graphs('./data/train_full_graphs_t5.dgl', dataset)"
   ]
  },
  {
   "cell_type": "code",
   "execution_count": 55,
   "metadata": {},
   "outputs": [],
   "source": [
    "train_dataset, test_dataset = train_test_split(dataset, test_size=0.25)\n",
    "\n",
    "train_dataloader = GraphDataLoader(train_dataset, batch_size=16, drop_last=False)\n",
    "test_dataloader = GraphDataLoader(test_dataset, batch_size=16, drop_last=False)"
   ]
  },
  {
   "cell_type": "code",
   "execution_count": null,
   "metadata": {},
   "outputs": [],
   "source": []
  }
 ],
 "metadata": {
  "kernelspec": {
   "display_name": "Python 3",
   "language": "python",
   "name": "python3"
  },
  "language_info": {
   "codemirror_mode": {
    "name": "ipython",
    "version": 3
   },
   "file_extension": ".py",
   "mimetype": "text/x-python",
   "name": "python",
   "nbconvert_exporter": "python",
   "pygments_lexer": "ipython3",
   "version": "3.10.8"
  },
  "orig_nbformat": 4,
  "vscode": {
   "interpreter": {
    "hash": "bbc3c3d932324566a9bf4b4a52ddf64063695fc3adbf25b3fda92572428493bb"
   }
  }
 },
 "nbformat": 4,
 "nbformat_minor": 2
}
