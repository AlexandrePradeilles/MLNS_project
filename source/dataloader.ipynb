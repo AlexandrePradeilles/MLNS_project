{
 "cells": [
  {
   "cell_type": "code",
   "execution_count": 1,
   "metadata": {},
   "outputs": [
    {
     "data": {
      "text/plain": [
       "'0.9.0'"
      ]
     },
     "execution_count": 1,
     "metadata": {},
     "output_type": "execute_result"
    }
   ],
   "source": [
    "import dgl\n",
    "dgl.__version__"
   ]
  },
  {
   "cell_type": "code",
   "execution_count": 1,
   "metadata": {},
   "outputs": [],
   "source": [
    "from functions_HGPLS import net_graph, train, test, extract_prediction\n",
    "from graph_networks import HGPSLModel\n",
    "\n",
    "import numpy as np\n",
    "import pandas as pd\n",
    "import scipy.sparse as sp\n",
    "\n",
    "import dgl\n",
    "import networkx as nx\n",
    "import numpy as np\n",
    "import torch\n",
    "import torch.nn.functional as F\n",
    "from dgl.dataloading import GraphDataLoader\n",
    "from sklearn.model_selection import train_test_split\n",
    "from time import time\n",
    "from tqdm import tqdm\n",
    "from sklearn.decomposition import PCA"
   ]
  },
  {
   "cell_type": "code",
   "execution_count": 2,
   "metadata": {},
   "outputs": [
    {
     "name": "stderr",
     "output_type": "stream",
     "text": [
      "Special tokens have been added in the vocabulary, make sure the associated word embeddings are fine-tuned or trained.\n",
      "Special tokens have been added in the vocabulary, make sure the associated word embeddings are fine-tuned or trained.\n"
     ]
    }
   ],
   "source": [
    "from transformers import AutoTokenizer, AutoModelForMaskedLM\n",
    "\n",
    "tokenizer = AutoTokenizer.from_pretrained(\"seyonec/SMILES_tokenized_PubChem_shard00_160k\")\n",
    "\n",
    "model = AutoModelForMaskedLM.from_pretrained(\"seyonec/SMILES_tokenized_PubChem_shard00_160k\")"
   ]
  },
  {
   "cell_type": "code",
   "execution_count": 3,
   "metadata": {},
   "outputs": [
    {
     "name": "stdout",
     "output_type": "stream",
     "text": [
      "100\n"
     ]
    }
   ],
   "source": [
    "atoms = [\"\", \"H\", \"He\", \"Li\", \"Be\", \"B\", \"C\", \"N\", \"O\", \"F\", \"Ne\", \"Na\", \"Mg\", \"Al\", \"Si\", \"P\", \"S\", \"Cl\", \"Ar\", \"K\", \"Ca\", \"Sc\", \"Ti\", \"V\", \"Cr\", \"Mn\", \"Fe\", \"Co\", \"Ni\", \"Cu\", \"Ga\", \"Ge\", \"As\", \"Se\", \"Br\", \"Kr\", \"Rb\", \"Sr\", \"Y\", \"Zr\", \"Nb\", \"Mo\", \"Tc\", \"Ru\", \"Rh\", \"Pd\", \"Ag\", \"Cd\", \"In\", \"Sn\", \"Sb\", \"Te\", \"I\", \"Xe\", \"Cs\", \"Ba\", \"La\", \"Ce\", \"Pr\", \"Nd\", \"Pm\", \"Sm\", \"Eu\", \"Gd\", \"Tb\", \"Dy\", \"Ho\", \"Er\", \"Tm\", \"Yb\", \"Lu\", \"Hf\", \"Ta\", \"W\", \"Re\", \"Os\", \"Ir\", \"Pt\", \"Au\", \"Hg\", \"Tl\", \"Pb\", \"Bi\", \"Po\", \"At\", \"Rn\", \"Fr\", \"Ra\", \"Ac\", \"Th\", \"Pa\", \"U\", \"Np\", \"Pu\", \"Am\", \"Cm\", \"Bk\", \"Cf\", \"Es\", \"Fm\"]\n",
    "print(len(atoms))\n",
    "ids = tokenizer(atoms).input_ids\n",
    "\n",
    "toks = list()\n",
    "for i in ids:\n",
    "    if len(i) >= 3:\n",
    "        toks.append(i[1])\n",
    "    else:\n",
    "        toks.append(i[0])"
   ]
  },
  {
   "cell_type": "code",
   "execution_count": 4,
   "metadata": {},
   "outputs": [],
   "source": [
    "dataset, labels_g = dgl.load_graphs(\"../data/HIV_dgl_graphs\")"
   ]
  },
  {
   "cell_type": "code",
   "execution_count": 5,
   "metadata": {},
   "outputs": [],
   "source": [
    "labels_g = labels_g['glabel'].tolist()"
   ]
  },
  {
   "cell_type": "code",
   "execution_count": 6,
   "metadata": {},
   "outputs": [],
   "source": [
    "tok = torch.zeros((len(toks), 1))\n",
    "for i in range(len(toks)):\n",
    "    tok[i] = toks[i]\n",
    "\n",
    "tok\n",
    "transfo_atoms = model(tok.to(torch.long)).logits.reshape(100, -1)"
   ]
  },
  {
   "cell_type": "code",
   "execution_count": 7,
   "metadata": {},
   "outputs": [],
   "source": [
    "pca = PCA(n_components=100, random_state=42)\n",
    "res = pca.fit_transform(transfo_atoms.detach().numpy())"
   ]
  },
  {
   "cell_type": "code",
   "execution_count": 37,
   "metadata": {},
   "outputs": [
    {
     "name": "stderr",
     "output_type": "stream",
     "text": [
      "100%|██████████| 2443/2443 [00:02<00:00, 866.05it/s]\n"
     ]
    }
   ],
   "source": [
    "new_dataset = list()\n",
    "for i in tqdm(range(len(dataset))):\n",
    "    g= dataset[i]\n",
    "    l = labels_g[i]\n",
    "    ids=list(g.ndata[\"atomic\"].numpy().flatten().astype(int))\n",
    "    g.ndata[\"feature\"] = torch.tensor(res[ids])\n",
    "    g.edata[\"type\"] = g.edata[\"type\"].to(dtype=torch.float32)\n",
    "    g = dgl.add_self_loop(g)\n",
    "    g = dgl.add_reverse_edges(g, copy_edata=True)\n",
    "    # g.nodes[\"_N\"].data[\"atomic\"] = g.nodes[\"_N\"].data[\"atomic\"].to(torch.float32)\n",
    "    # g.edata[\"_ID\"] = g.edata[\"_ID\"].to(dtype=torch.int64)\n",
    "    # g.nodes[\"_N\"].data[\"atomic\"] = g.nodes[\"_N\"].data[\"atomic\"].to(torch.int32)\n",
    "    a=dgl.graph(g.edges(), idtype=torch.int64)\n",
    "    a.ndata[\"feature\"] = g.ndata[\"feature\"]\n",
    "    a.edata[\"type\"] = g.edata[\"type\"]\n",
    "    new_dataset.append((a, l))"
   ]
  },
  {
   "cell_type": "code",
   "execution_count": 38,
   "metadata": {},
   "outputs": [],
   "source": [
    "train_dataset, test_dataset = train_test_split(new_dataset, test_size=0.25, random_state=42)\n",
    "\n",
    "train_dataloader = GraphDataLoader(train_dataset, batch_size=16, drop_last=False)\n",
    "test_dataloader = GraphDataLoader(test_dataset, batch_size=16, drop_last=False)"
   ]
  },
  {
   "cell_type": "code",
   "execution_count": 45,
   "metadata": {},
   "outputs": [],
   "source": [
    "# Load model architecture\n",
    "device = 'cpu' if torch.cuda.is_available() else 'cpu'\n",
    "model = HGPSLModel(in_feat=100, out_feat=3, hid_feat=256).to(device)"
   ]
  },
  {
   "cell_type": "code",
   "execution_count": 46,
   "metadata": {},
   "outputs": [],
   "source": [
    "# Define optimizer and loss\n",
    "optimizer = torch.optim.Adam(\n",
    "        model.parameters(), lr=0.0001, #weight_decay=0.001\n",
    "    )\n",
    "loss = torch.nn.CrossEntropyLoss()"
   ]
  },
  {
   "cell_type": "code",
   "execution_count": 48,
   "metadata": {},
   "outputs": [
    {
     "name": "stderr",
     "output_type": "stream",
     "text": [
      "100%|██████████| 115/115 [00:23<00:00,  4.82it/s]\n",
      "100%|██████████| 39/39 [00:05<00:00,  7.42it/s]\n"
     ]
    },
    {
     "name": "stdout",
     "output_type": "stream",
     "text": [
      "Epoch 1: train_loss=0.9836, train_acc=0.4842, val_acc=0.5221, vall_loss=0.9177\n"
     ]
    },
    {
     "name": "stderr",
     "output_type": "stream",
     "text": [
      "100%|██████████| 115/115 [00:31<00:00,  3.67it/s]\n",
      "100%|██████████| 39/39 [00:06<00:00,  5.89it/s]\n"
     ]
    },
    {
     "name": "stdout",
     "output_type": "stream",
     "text": [
      "Epoch 2: train_loss=0.9814, train_acc=0.4924, val_acc=0.5286, vall_loss=0.9184\n"
     ]
    },
    {
     "name": "stderr",
     "output_type": "stream",
     "text": [
      "100%|██████████| 115/115 [00:30<00:00,  3.80it/s]\n",
      "100%|██████████| 39/39 [00:06<00:00,  6.34it/s]\n"
     ]
    },
    {
     "name": "stdout",
     "output_type": "stream",
     "text": [
      "Epoch 3: train_loss=0.9778, train_acc=0.4940, val_acc=0.5074, vall_loss=0.9130\n"
     ]
    },
    {
     "name": "stderr",
     "output_type": "stream",
     "text": [
      " 27%|██▋       | 31/115 [00:08<00:22,  3.77it/s]"
     ]
    }
   ],
   "source": [
    "# Train model and keep the best validation loss model\n",
    "bad_cound = 0\n",
    "best_val_acc = 0.5139\n",
    "best_epoch = 0\n",
    "epochs = 10\n",
    "patience = 10\n",
    "print_every = 1\n",
    "train_times = []\n",
    "for e in range(epochs):\n",
    "    s_time = time()\n",
    "    train_loss, train_acc = train(model, optimizer, loss, train_dataloader, device)\n",
    "    train_times.append(time() - s_time)\n",
    "    val_acc, val_loss = test(model, loss, test_dataloader, device)\n",
    "    if best_val_acc < val_acc:\n",
    "        best_val_acc = val_acc\n",
    "        bad_cound = 0\n",
    "        best_epoch = e + 1\n",
    "        torch.save(model.state_dict(), \"../models/HGPSLModel_red.pt\")\n",
    "    else:\n",
    "        bad_cound += 1\n",
    "    if bad_cound >= patience:\n",
    "        break\n",
    "\n",
    "    if (e + 1) % print_every == 0:\n",
    "        log_format = (\n",
    "            \"Epoch {}: train_loss={:.4f}, train_acc={:.4f}, val_acc={:.4f}, vall_loss={:.4f}\"\n",
    "        )\n",
    "        print(log_format.format(e + 1, train_loss, train_acc, val_acc, val_loss))\n",
    "print(\n",
    "    \"Best Epoch {}, final test acc {:.4f}\".format(\n",
    "        best_epoch, best_val_acc\n",
    "    )\n",
    ")"
   ]
  },
  {
   "cell_type": "code",
   "execution_count": null,
   "metadata": {},
   "outputs": [],
   "source": [
    "model.load_state_dict(torch.load(\"../models/HGPSLModel_red.pt\"))"
   ]
  },
  {
   "cell_type": "code",
   "execution_count": null,
   "metadata": {},
   "outputs": [],
   "source": [
    "emb_test=[]\n",
    "lab_test = []\n",
    "for batch in tqdm(test_dataloader):\n",
    "        batch_graphs, batch_labels = batch\n",
    "        batch_graphs = batch_graphs.to(device)\n",
    "        batch_labels = batch_labels.long().to(device)\n",
    "        out = model(batch_graphs, batch_graphs.ndata[\"feature\"].to(dtype=torch.float32))\n",
    "        emb_test += out.tolist()\n",
    "        lab_test += batch_labels.tolist()"
   ]
  },
  {
   "cell_type": "code",
   "execution_count": null,
   "metadata": {},
   "outputs": [],
   "source": [
    "emb_train=[]\n",
    "lab_train = []\n",
    "for batch in tqdm(train_dataloader):\n",
    "        batch_graphs, batch_labels = batch\n",
    "        batch_graphs = batch_graphs.to(device)\n",
    "        batch_labels = batch_labels.long().to(device)\n",
    "        out = model(batch_graphs, batch_graphs.ndata[\"feature\"].to(dtype=torch.float32))\n",
    "        emb_train += out.tolist()\n",
    "        lab_train += batch_labels.tolist()"
   ]
  },
  {
   "cell_type": "code",
   "execution_count": null,
   "metadata": {},
   "outputs": [],
   "source": [
    "from xgboost import XGBClassifier\n",
    "xgb =XGBClassifier(random_state=0)\n",
    "\n",
    "xgb.fit(emb_train, lab_train)\n",
    "predxgb = xgb.predict(emb_test)"
   ]
  },
  {
   "cell_type": "code",
   "execution_count": null,
   "metadata": {},
   "outputs": [],
   "source": [
    "from sklearn.metrics import accuracy_score\n",
    "accuracy_score(lab_test, predxgb)"
   ]
  },
  {
   "cell_type": "code",
   "execution_count": 105,
   "metadata": {},
   "outputs": [],
   "source": [
    "pos = [g for (g, l) in dataset if int(l) == 1]\n",
    "neg = [g for (g, l) in dataset if int(l) == 0]"
   ]
  },
  {
   "cell_type": "code",
   "execution_count": 68,
   "metadata": {},
   "outputs": [
    {
     "data": {
      "text/plain": [
       "dict_keys([27, 60, 11, 36, 25, 8, 176, 47, 86, 80, 33, 39, 15, 6, 10, 7, 139, 16, 13, 96, 18, 51, 59, 28, 23, 29, 195, 12, 114, 193, 30, 21, 76, 24, 160, 41, 98, 50, 4, 167, 136, 101, 152, 37, 26, 65, 53, 64, 81, 14, 5, 34, 40, 9, 196, 93, 126, 42, 22, 54, 163, 105, 113, 74, 44, 75, 56, 17, 71, 61, 68, 19, 62, 31, 124, 49, 109, 112, 161, 91, 194, 89, 88, 107, 128, 85, 145, 104, 35, 84, 3, 69, 106, 20, 38, 141, 73, 153, 183, 82, 52, 115, 120, 78, 67, 110, 99, 130, 32, 157, 168, 102, 182, 108, 125, 77, 63, 173, 172, 162, 132, 55, 148, 154, 119, 58, 94, 155, 66, 111, 178, 83, 72, 150, 165, 57, 177, 144, 123, 90, 184, 131, 151, 170, 147, 122, 92])"
      ]
     },
     "execution_count": 68,
     "metadata": {},
     "output_type": "execute_result"
    }
   ],
   "source": [
    "from collections import Counter\n",
    "Counter([len(g.nodes()) for g in pos]).keys()"
   ]
  },
  {
   "cell_type": "code",
   "execution_count": 106,
   "metadata": {},
   "outputs": [
    {
     "data": {
      "text/plain": [
       "<BarContainer object of 195 artists>"
      ]
     },
     "execution_count": 106,
     "metadata": {},
     "output_type": "execute_result"
    },
    {
     "data": {
      "image/png": "[encoded data removed]",
      "text/plain": [
       "<Figure size 640x480 with 1 Axes>"
      ]
     },
     "metadata": {},
     "output_type": "display_data"
    }
   ],
   "source": [
    "import matplotlib.pyplot as plt\n",
    "plt.bar(Counter([len(g.nodes()) for g in pos]).keys(), Counter([len(g.nodes()) for g in pos]).values())\n",
    "plt.bar(Counter([len(g.nodes()) for g in neg]).keys(), Counter([len(g.nodes()) for g in neg]).values(), alpha=0.7)"
   ]
  },
  {
   "cell_type": "code",
   "execution_count": 96,
   "metadata": {},
   "outputs": [
    {
     "data": {
      "text/plain": [
       "(38.86639824304539, 76.16361639824305)"
      ]
     },
     "execution_count": 96,
     "metadata": {},
     "output_type": "execute_result"
    }
   ],
   "source": [
    "np.mean([len(g.nodes()) for g in pos]), np.mean([len(g.nodes()) for g in neg])"
   ]
  }
 ],
 "metadata": {
  "kernelspec": {
   "display_name": "Python 3",
   "language": "python",
   "name": "python3"
  },
  "language_info": {
   "codemirror_mode": {
    "name": "ipython",
    "version": 3
   },
   "file_extension": ".py",
   "mimetype": "text/x-python",
   "name": "python",
   "nbconvert_exporter": "python",
   "pygments_lexer": "ipython3",
   "version": "3.10.8"
  },
  "orig_nbformat": 4,
  "vscode": {
   "interpreter": {
    "hash": "bbc3c3d932324566a9bf4b4a52ddf64063695fc3adbf25b3fda92572428493bb"
   }
  }
 },
 "nbformat": 4,
 "nbformat_minor": 2
}
